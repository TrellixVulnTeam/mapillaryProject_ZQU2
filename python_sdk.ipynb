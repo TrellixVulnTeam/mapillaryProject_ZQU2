{
 "cells": [
  {
   "cell_type": "markdown",
   "id": "588b49ac-4503-4f04-acae-15634c81f18e",
   "metadata": {},
   "source": [
    "## Python SDK\n",
    "https://mapillary.github.io/mapillary-python-sdk/docs/intro"
   ]
  },
  {
   "cell_type": "code",
   "execution_count": 130,
   "id": "6546228a-3bbd-4ca8-8cf3-f76c1f4d25a1",
   "metadata": {},
   "outputs": [],
   "source": [
    "import mapillary.interface as mly\n",
    "import json\n",
    "import requests\n",
    "import os\n",
    "import numpy as np"
   ]
  },
  {
   "cell_type": "markdown",
   "id": "1f72f77f-f4f5-4401-afe0-e258f57e1f96",
   "metadata": {},
   "source": [
    "### Token\n",
    "https://www.mapillary.com/dashboard/developers"
   ]
  },
  {
   "cell_type": "code",
   "execution_count": 7,
   "id": "7bb2615e-c3bf-4963-a5cb-43e015f01309",
   "metadata": {},
   "outputs": [],
   "source": [
    "access_token = \"MLY|##########################\""
   ]
  },
  {
   "cell_type": "markdown",
   "id": "b47cfa0d-dc17-4564-ad51-b2d0eb146bfb",
   "metadata": {},
   "source": [
    "### Set Access Token"
   ]
  },
  {
   "cell_type": "code",
   "execution_count": 9,
   "id": "4dc536b5-dbd5-4b01-943b-58941528d386",
   "metadata": {},
   "outputs": [
    {
     "data": {
      "text/plain": [
       "{'token': 'SUCCESS'}"
      ]
     },
     "execution_count": 9,
     "metadata": {},
     "output_type": "execute_result"
    }
   ],
   "source": [
    "mly.set_access_token(access_token)"
   ]
  },
  {
   "cell_type": "markdown",
   "id": "372d7f72-035e-4d52-b00c-f0ec6895667e",
   "metadata": {},
   "source": [
    "### Get Image Data from Lat/Long"
   ]
  },
  {
   "cell_type": "code",
   "execution_count": 131,
   "id": "e12ce7e6-b853-4659-b795-0641e531283b",
   "metadata": {},
   "outputs": [],
   "source": [
    "def get_img(filepath=os.getcwd()+'/data', longtitude=103.851959, latitude=1.290270, radius=1000, min_captured_at=\"2019-01-01\", max_captured_at = \"2021-12-30\", no_of_images=100, res=1024):\n",
    "    '''\n",
    "    Function to download specified <no_of_image> into filepath <current_dir+/data>. \n",
    "    res - specifies image resolution 256/1024/2048\n",
    "    radius - distance (m) to obtain images\n",
    "    longitude - Singapore centroid\n",
    "    latitude - Singapore centroid\n",
    "    '''\n",
    "    \n",
    "    \n",
    "    data = mly.get_image_close_to(longitude=103.9293522, latitude=1.345874, radius=1000).to_dict()\n",
    "    with open(\"get_image_close_to.json\", mode=\"w\") as f:\n",
    "        json.dump(data, f, indent=4)\n",
    "    \n",
    "    random_set = list(np.random.randint(0, len(data['features']), no_of_images))\n",
    "    \n",
    "    for i in random_set:\n",
    "        image_id = data['features'][i]['properties']['id']\n",
    "        url = 'https://graph.mapillary.com/{}?fields=thumb_{}_url&access_token={}'.format(image_id, res, access_token)\n",
    "        r = requests.get(url)\n",
    "        img_json = r.json()\n",
    "        image_url = img_json['thumb_{}_url'.format(res)]\n",
    "        \n",
    "        with open('{}/{}.jpg'.format(filepath,image_id), 'wb') as handler:\n",
    "              image_data = requests.get(image_url, stream=True).content\n",
    "              handler.write(image_data)"
   ]
  },
  {
   "cell_type": "code",
   "execution_count": 132,
   "id": "cb1feeef-d563-4347-8e58-d4d428e12bd0",
   "metadata": {},
   "outputs": [
    {
     "name": "stdout",
     "output_type": "stream",
     "text": [
      "Requesting GET to https://tiles.mapillary.com/maps/vtp/mly1_public/2/14/12921/8130/?access_token=##################",
      "Response 200 OK received in 443ms\n"
     ]
    }
   ],
   "source": [
    "get_img()"
   ]
  },
  {
   "cell_type": "code",
   "execution_count": null,
   "id": "dec8cbf3-5877-4a6e-aa81-244290c3d019",
   "metadata": {},
   "outputs": [],
   "source": []
  }
 ],
 "metadata": {
  "kernelspec": {
   "display_name": "mapillary",
   "language": "python",
   "name": "mapillary"
  },
  "language_info": {
   "codemirror_mode": {
    "name": "ipython",
    "version": 3
   },
   "file_extension": ".py",
   "mimetype": "text/x-python",
   "name": "python",
   "nbconvert_exporter": "python",
   "pygments_lexer": "ipython3",
   "version": "3.8.8"
  }
 },
 "nbformat": 4,
 "nbformat_minor": 5
}
