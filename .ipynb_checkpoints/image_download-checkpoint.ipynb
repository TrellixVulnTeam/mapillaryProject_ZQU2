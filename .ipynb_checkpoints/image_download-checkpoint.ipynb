{
 "cells": [
  {
   "cell_type": "code",
   "execution_count": 118,
   "id": "1f853387-d671-42d0-83a9-94cc12b7a0c0",
   "metadata": {},
   "outputs": [],
   "source": [
    "import mercantile, mapbox_vector_tile, requests, json, os\n",
    "from vt2geojson.tools import vt_bytes_to_geojson"
   ]
  },
  {
   "cell_type": "code",
   "execution_count": 119,
   "id": "5a561fc6-e3ea-464b-a141-c82be67e0fc9",
   "metadata": {},
   "outputs": [],
   "source": [
    "output= { \"type\": \"FeatureCollection\", \"features\": [] }"
   ]
  },
  {
   "cell_type": "code",
   "execution_count": 120,
   "id": "5d2c5b2d-0d75-4321-8c41-3269d9171aae",
   "metadata": {},
   "outputs": [],
   "source": [
    "tile_coverage = 'mly1_public'"
   ]
  },
  {
   "cell_type": "code",
   "execution_count": 121,
   "id": "b3eba357-6d3b-4843-ac51-7ee77222cc6f",
   "metadata": {},
   "outputs": [],
   "source": [
    "tile_layer = 'image'"
   ]
  },
  {
   "cell_type": "code",
   "execution_count": 122,
   "id": "80f589ac-7443-4ce0-b98e-43952d514c02",
   "metadata": {},
   "outputs": [],
   "source": [
    "access_token = 'MLY|4826481817389593|29f5db2b7826a5845bc2ee8d2fc8e1b1'"
   ]
  },
  {
   "cell_type": "code",
   "execution_count": 123,
   "id": "ad0306c0-52d9-4c41-ae36-64ce1808585c",
   "metadata": {},
   "outputs": [],
   "source": [
    "west, south, east, north = [103.6920359, 1.1304753 , 104.0120359, 1.4504753]"
   ]
  },
  {
   "cell_type": "code",
   "execution_count": 124,
   "id": "c8a824d8-2b2a-46e7-b0ae-d69213ddaa14",
   "metadata": {},
   "outputs": [],
   "source": [
    "tiles = list(mercantile.tiles(west, south, east, north, 14))"
   ]
  },
  {
   "cell_type": "code",
   "execution_count": 125,
   "id": "8eef8a29-e02a-4bde-ab6c-b5af79617688",
   "metadata": {},
   "outputs": [
    {
     "data": {
      "text/plain": [
       "14"
      ]
     },
     "execution_count": 125,
     "metadata": {},
     "output_type": "execute_result"
    }
   ],
   "source": [
    "# Return second tile\n",
    "tile = tiles[1]"
   ]
  },
  {
   "cell_type": "code",
   "execution_count": 126,
   "id": "b06ce191-ee85-4825-b795-876287a086e3",
   "metadata": {},
   "outputs": [],
   "source": [
    "tile_url = 'https://tiles.mapillary.com/maps/vtp/{}/2/{}/{}/{}?access_token={}'.format(tile_coverage,tile.z,tile.x,tile.y,access_token)\n",
    "response = requests.get(tile_url)\n",
    "data = vt_bytes_to_geojson(response.content, tile.x, tile.y, tile.z)\n",
    "data = [feature for feature in data['features'] if (feature['geometry']['type'] == 'Point')]"
   ]
  },
  {
   "cell_type": "code",
   "execution_count": null,
   "id": "108a8492-10e5-4aff-9983-91cc042084a9",
   "metadata": {},
   "outputs": [],
   "source": [
    "for feature in data:\n",
    "    lng = feature['geometry']['coordinates'][0]\n",
    "    lat = feature['geometry']['coordinates'][1]\n",
    "\n",
    "        # ensure feature falls inside bounding box since tiles can extend beyond\n",
    "    if lng > west and lng < east and lat > south and lat < north:\n",
    "        sequence_id = feature['properties'][\"sequence_id\"]\n",
    "        if not os.path.exists(sequence_id):\n",
    "            os.makedirs(sequence_id)\n",
    "\n",
    "              # request the URL of each image\n",
    "    image_id = feature['properties']['id']\n",
    "    url = 'https://graph.mapillary.com/{}?fields=thumb_2048_url&access_token={}'.format(image_id, access_token)\n",
    "    r = requests.get(url)\n",
    "    data = r.json()\n",
    "    image_url = data['thumb_2048_url']\n",
    "\n",
    "          # save each image with ID as filename to directory by sequence ID\n",
    "    with open('{}/{}.jpg'.format(sequence_id, image_id), 'wb') as handler:\n",
    "        image_data = requests.get(image_url, stream=True).content\n",
    "        handler.write(image_data)"
   ]
  },
  {
   "cell_type": "code",
   "execution_count": null,
   "id": "980fc89d-f92e-4fb8-9678-d30ad71be983",
   "metadata": {},
   "outputs": [],
   "source": []
  }
 ],
 "metadata": {
  "kernelspec": {
   "display_name": "mapillary",
   "language": "python",
   "name": "mapillary"
  },
  "language_info": {
   "codemirror_mode": {
    "name": "ipython",
    "version": 3
   },
   "file_extension": ".py",
   "mimetype": "text/x-python",
   "name": "python",
   "nbconvert_exporter": "python",
   "pygments_lexer": "ipython3",
   "version": "3.8.8"
  }
 },
 "nbformat": 4,
 "nbformat_minor": 5
}
